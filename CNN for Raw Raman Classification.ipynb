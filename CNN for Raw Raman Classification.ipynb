{
 "cells": [
  {
   "cell_type": "markdown",
   "metadata": {},
   "source": [
    "# Introduction\n",
    " - Raman has been used to classify mineral types and has growing use in biomedical applications\n",
    " - Traditional methods rely on baseline normalization and PCA to extract features\n",
    " - Recent work has shown that CNN's can outperform manual baseline normalization techniques\n",
    " - This project is to train a CNN to process raw Raman spectra from the RUFF database and apply transfer learning to process raw raman from other applications"
   ]
  },
  {
   "cell_type": "code",
   "execution_count": 198,
   "metadata": {},
   "outputs": [
    {
     "name": "stdout",
     "output_type": "stream",
     "text": [
      "The autoreload extension is already loaded. To reload it, use:\n",
      "  %reload_ext autoreload\n"
     ]
    }
   ],
   "source": [
    "%load_ext autoreload\n",
    "%autoreload 1\n",
    "%matplotlib inline\n",
    "\n",
    "from lib.utils import RamanSample\n",
    "import numpy as np\n",
    "import pandas as pd\n",
    "import csv\n",
    "import pickle\n",
    "import matplotlib.pyplot as plt\n",
    "import time\n",
    "import glob\n",
    "import os\n",
    "import shutil"
   ]
  },
  {
   "cell_type": "markdown",
   "metadata": {},
   "source": [
    "## Formatting Data Files\n",
    "In order to use an `ImageDataGenerator` and flow it from a directory, we need to setup our data so that each subdirectory of the main directory represents a label."
   ]
  },
  {
   "cell_type": "code",
   "execution_count": 213,
   "metadata": {},
   "outputs": [],
   "source": [
    "raw_files = glob.glob(\"data/*/*.txt\")\n",
    "\n",
    "for fname in raw_files:\n",
    "    #fname = raw_files[np.random.randint(len(raw_files))]\n",
    "    basename, ext = os.path.splitext(os.path.basename(fname))\n",
    "    compound, rlabel, ir_type, wv, n, orientation, data_status, rid = basename.split(\"__\")\n",
    "\n",
    "    #print(\"{} with wavelength {} - {}\".format(compound, wv, data))\n",
    "    path = os.path.join(\"data\", \"{}/{}/{}\".format(data_status, orientation, compound))\n",
    "    os.makedirs(path, exist_ok=True)\n",
    "\n",
    "    shutil.copy(fname, path)"
   ]
  },
  {
   "cell_type": "code",
   "execution_count": 214,
   "metadata": {},
   "outputs": [
    {
     "name": "stdout",
     "output_type": "stream",
     "text": [
      "data/unrated_unoriented/Zykaite__R070477__Raman__785__0__unoriented__Raman_Data_RAW__22174.txt of 15757\n",
      "(2328, 2)\n",
      "[[ 145.5055        0.64089744]\n",
      " [ 145.9876        0.66666774]\n",
      " [ 146.4697        0.68974313]\n",
      " [ 146.9518        0.70939088]\n",
      " [ 147.434         0.72735572]]\n"
     ]
    },
    {
     "data": {
      "image/png": "[encoded data removed]",
      "text/plain": [
       "<matplotlib.figure.Figure at 0x10cd89390>"
      ]
     },
     "metadata": {},
     "output_type": "display_data"
    }
   ],
   "source": [
    "data = np.genfromtxt(fname,\n",
    "                    dtype=None,\n",
    "                    comments=\"##\",\n",
    "                    delimiter=\",\",\n",
    "                    names=[\"wavenumber\", \"intensity\"]\n",
    "                 )\n",
    "print(\"{} of {}\".format(fname, len(raw_files)))\n",
    "m = max(data[\"intensity\"])\n",
    "data[\"intensity\"] = data[\"intensity\"] / m\n",
    "plt.plot(data[\"wavenumber\"], data[\"intensity\"])\n",
    "dx = np.matrix([data[\"wavenumber\"], data[\"intensity\"]]).transpose()\n",
    "print(dx.shape)\n",
    "print(dx[:5,:])"
   ]
  },
  {
   "cell_type": "code",
   "execution_count": 2,
   "metadata": {},
   "outputs": [
    {
     "name": "stdout",
     "output_type": "stream",
     "text": [
      "(7832, 701)\n"
     ]
    }
   ],
   "source": []
  },
  {
   "cell_type": "code",
   "execution_count": 18,
   "metadata": {},
   "outputs": [],
   "source": [
    "from sklearn.preprocessing import OneHotEncoder, LabelEncoder\n",
    "\n",
    "path = \"data/processed/spectra_with_label2.csv\"\n",
    "#path = \"data/processed/sample.csv\"\n",
    "\n",
    "my_data = pd.read_csv(path).as_matrix()\n",
    "print(my_data.shape)\n",
    "y, X = my_data[:, 0], my_data[:, 1:]\n",
    "\n",
    "\n",
    "label_encoder = LabelEncoder()\n",
    "y_encoded = label_encoder.fit_transform(y)\n",
    "num_labels = len(set(y_encoded))\n",
    "one_hot_encoder = OneHotEncoder(sparse=False)\n",
    "y_train = one_hot_encoder.fit_transform(y_encoded.reshape(-1,1))\n",
    "X_train = X.reshape((X.shape[0], X.shape[1], 1, 1))\n"
   ]
  },
  {
   "cell_type": "code",
   "execution_count": 7,
   "metadata": {},
   "outputs": [
    {
     "name": "stdout",
     "output_type": "stream",
     "text": [
      "(7832, 700, 1, 1)\n"
     ]
    }
   ],
   "source": []
  },
  {
   "cell_type": "code",
   "execution_count": 9,
   "metadata": {},
   "outputs": [
    {
     "name": "stderr",
     "output_type": "stream",
     "text": [
      "Using TensorFlow backend.\n"
     ]
    }
   ],
   "source": [
    "from keras.models import Sequential\n",
    "from keras.layers import Dense, Activation, Conv2D, MaxPooling2D, AveragePooling2D, Flatten, LeakyReLU, Dropout, GlobalAveragePooling2D\n",
    "from keras.callbacks import ModelCheckpoint\n",
    "from keras.preprocessing.image import ImageDataGenerator"
   ]
  },
  {
   "cell_type": "markdown",
   "metadata": {},
   "source": [
    "## ImageDataGenerator\n",
    "We want to produce slightly altered spectra to augment our training set.  \n",
    "### TODO:\n",
    "- Refactor preprocessing so that labels are inferred from subdirectories and images are produced automatically\n",
    "- Refactor \"channels\" so that each channel is represented by a laser wavelength, likely (532nm, 780nm, 830nm)"
   ]
  },
  {
   "cell_type": "code",
   "execution_count": 13,
   "metadata": {},
   "outputs": [],
   "source": [
    "dataGen = ImageDataGenerator(\n",
    "    rotation_range=15, \n",
    "    width_shift_range=0.15, \n",
    "    height_shift_range=0.15,\n",
    "    zoom_range=0.15, \n",
    "    data_format=\"channels_last\")\n",
    "\n",
    "dataGen.fit(X_train)"
   ]
  },
  {
   "cell_type": "code",
   "execution_count": 46,
   "metadata": {},
   "outputs": [
    {
     "name": "stdout",
     "output_type": "stream",
     "text": [
      "Monticellite\n",
      "Monticellite\n",
      "Monticellite\n",
      "Monticellite\n",
      "Monticellite\n"
     ]
    },
    {
     "data": {
      "image/png": "[encoded data removed]",
      "text/plain": [
       "<matplotlib.figure.Figure at 0x1a4004a3c8>"
      ]
     },
     "metadata": {},
     "output_type": "display_data"
    }
   ],
   "source": [
    "for x, y in dataGen.flow(X_train,y_train, batch_size=5):\n",
    "    for batch in x:\n",
    "        print(label_encoder.inverse_transform(np.argmax(y)))\n",
    "        plt.plot(np.array(range(400,1800,2)),batch[:,0,0])\n",
    "    break\n"
   ]
  },
  {
   "cell_type": "code",
   "execution_count": 15,
   "metadata": {},
   "outputs": [
    {
     "name": "stdout",
     "output_type": "stream",
     "text": [
      "_________________________________________________________________\n",
      "Layer (type)                 Output Shape              Param #   \n",
      "=================================================================\n",
      "conv1d_7 (Conv1D)            (None, 700, 128)          2688      \n",
      "_________________________________________________________________\n",
      "max_pooling1d_7 (MaxPooling1 (None, 350, 128)          0         \n",
      "_________________________________________________________________\n",
      "conv1d_8 (Conv1D)            (None, 350, 64)           81984     \n",
      "_________________________________________________________________\n",
      "max_pooling1d_8 (MaxPooling1 (None, 175, 64)           0         \n",
      "_________________________________________________________________\n",
      "conv1d_9 (Conv1D)            (None, 175, 64)           16448     \n",
      "_________________________________________________________________\n",
      "max_pooling1d_9 (MaxPooling1 (None, 87, 64)            0         \n",
      "_________________________________________________________________\n",
      "flatten_2 (Flatten)          (None, 5568)              0         \n",
      "_________________________________________________________________\n",
      "dense_5 (Dense)              (None, 500)               2784500   \n",
      "_________________________________________________________________\n",
      "dropout_3 (Dropout)          (None, 500)               0         \n",
      "_________________________________________________________________\n",
      "dense_6 (Dense)              (None, 2203)              1103703   \n",
      "=================================================================\n",
      "Total params: 3,989,323\n",
      "Trainable params: 3,989,323\n",
      "Non-trainable params: 0\n",
      "_________________________________________________________________\n"
     ]
    }
   ],
   "source": [
    "model = Sequential()\n",
    "model.add(Conv2D(filters=128, kernel_size=20, padding='same', activation='relu', input_shape=(X_train.shape[1:])))\n",
    "model.add(MaxPooling1D(pool_size=2, padding='valid'))\n",
    "#model.add(LeakyReLU(alpha=.2))\n",
    "model.add(Conv1D(filters=64, kernel_size=10, padding='same', activation='relu'))\n",
    "model.add(MaxPooling1D(pool_size=2, padding='valid'))\n",
    "#model.add(LeakyReLU(alpha=.2))\n",
    "model.add(Conv1D(filters=64, kernel_size=4, padding='same', activation='relu'))\n",
    "#model.add(LeakyReLU(alpha=.2))\n",
    "model.add(MaxPooling1D(pool_size=2, padding='valid'))\n",
    "#model.add(GlobalAveragePooling1D())\n",
    "model.add(Flatten())\n",
    "model.add(Dense(500, activation='relu'))\n",
    "model.add(Dropout(.5))\n",
    "model.add(Dense(num_labels, activation=\"softmax\"))\n",
    "\n",
    "model.summary()\n"
   ]
  },
  {
   "cell_type": "code",
   "execution_count": 16,
   "metadata": {
    "collapsed": true
   },
   "outputs": [],
   "source": [
    "model.compile(optimizer='rmsprop',\n",
    "              loss='categorical_crossentropy',\n",
    "              metrics=['accuracy'])\n",
    "checkpoint = ModelCheckpoint(\"models/raman.s\", save_best_only=True)"
   ]
  },
  {
   "cell_type": "code",
   "execution_count": 17,
   "metadata": {},
   "outputs": [
    {
     "name": "stdout",
     "output_type": "stream",
     "text": [
      "Train on 900 samples, validate on 100 samples\n",
      "Epoch 1/5\n",
      "900/900 [==============================] - 10s 11ms/step - loss: 13.4578 - acc: 0.0367 - val_loss: 13.9785 - val_acc: 0.0200\n",
      "Epoch 2/5\n",
      "900/900 [==============================] - 10s 11ms/step - loss: 10.7508 - acc: 0.1122 - val_loss: 9.1913 - val_acc: 0.0600\n",
      "Epoch 3/5\n",
      "900/900 [==============================] - 10s 11ms/step - loss: 8.6598 - acc: 0.1589 - val_loss: 12.9936 - val_acc: 0.0800\n",
      "Epoch 4/5\n",
      "900/900 [==============================] - 10s 11ms/step - loss: 8.0969 - acc: 0.1911 - val_loss: 9.0064 - val_acc: 0.0900\n",
      "Epoch 5/5\n",
      "900/900 [==============================] - 11s 12ms/step - loss: 8.3604 - acc: 0.1789 - val_loss: 8.3976 - val_acc: 0.0700\n"
     ]
    },
    {
     "data": {
      "text/plain": [
       "<keras.callbacks.History at 0x11a6592b0>"
      ]
     },
     "execution_count": 17,
     "metadata": {},
     "output_type": "execute_result"
    }
   ],
   "source": [
    "epochs=5\n",
    "batch_size=50\n",
    "\n",
    "model.fit(X_train[:1000, :], y_train[:1000], epochs=epochs, batch_size=batch_size, \n",
    "          verbose=1, validation_split=0.1, shuffle=True,\n",
    "          callbacks=[checkpoint]\n",
    "         )"
   ]
  },
  {
   "cell_type": "code",
   "execution_count": null,
   "metadata": {
    "collapsed": true
   },
   "outputs": [],
   "source": []
  }
 ],
 "metadata": {
  "kernelspec": {
   "display_name": "Python raman",
   "language": "python",
   "name": "raman"
  },
  "language_info": {
   "codemirror_mode": {
    "name": "ipython",
    "version": 3
   },
   "file_extension": ".py",
   "mimetype": "text/x-python",
   "name": "python",
   "nbconvert_exporter": "python",
   "pygments_lexer": "ipython3",
   "version": "3.6.4"
  }
 },
 "nbformat": 4,
 "nbformat_minor": 1
}
